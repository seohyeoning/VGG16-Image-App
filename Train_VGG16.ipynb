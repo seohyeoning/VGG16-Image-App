{
 "cells": [
  {
   "cell_type": "markdown",
   "metadata": {},
   "source": [
    "## Image classification for quality assurance system\n",
    "- using VGG16\n",
    "- modify a classifier \n",
    "- freeze all params except for modified classifier\n",
    "- train and save best model for embedding to Custom App"
   ]
  },
  {
   "cell_type": "code",
   "execution_count": null,
   "metadata": {},
   "outputs": [],
   "source": [
    "from tensorflow.keras.applications.vgg16 import VGG16, preprocess_input, decode_predictions\n",
    "from tensorflow.keras.models import *\n",
    "from tensorflow.keras.layers import *\n",
    "from tensorflow.keras.utils import *\n",
    "\n",
    "import torch\n",
    "from torchvision import datasets, models, transforms\n",
    "import torch.nn as nn"
   ]
  },
  {
   "cell_type": "code",
   "execution_count": null,
   "metadata": {},
   "outputs": [],
   "source": [
    "# GPU 사용 가능 여부 확인\n",
    "device = torch.device(\"cuda\" if torch.cuda.is_available() else \"cpu\")\n",
    "print(\"Using device:\", device)\n",
    "\n",
    "# train data 디렉토리 정의\n",
    "train_dir = 'path/to/your/train/dataset'\n",
    "\n",
    "classes = ['cracked','uncracked']"
   ]
  },
  {
   "cell_type": "code",
   "execution_count": null,
   "metadata": {},
   "outputs": [],
   "source": [
    "# 224X224 이미지 처리를 위한 사이즈 조정 및 라벨링\n",
    "\n",
    "data_transform = transforms.Compose([transforms.RandomResizedCrop(224), \n",
    "                                      transforms.ToTensor()])\n",
    "\n",
    "# torchvision의 datasets.ImageFolder 사용 -> 데이터 로드 및 경로에 따른 자동 라벨링, 지정한 전처리 수행 \n",
    "train_data = datasets.ImageFolder(train_dir, transform=data_transform) "
   ]
  },
  {
   "cell_type": "code",
   "execution_count": null,
   "metadata": {},
   "outputs": [],
   "source": [
    "batch_size = 32\n",
    "num_workers=0\n",
    "\n",
    "train_loader = torch.utils.data.DataLoader(train_data, batch_size=batch_size, \n",
    "                                           num_workers=num_workers, shuffle=True)"
   ]
  },
  {
   "cell_type": "markdown",
   "metadata": {},
   "source": [
    "### Load pretrained model & modify the classifier"
   ]
  },
  {
   "cell_type": "code",
   "execution_count": null,
   "metadata": {},
   "outputs": [],
   "source": [
    "vgg16 = models.vgg16(pretrained=True) # VGG16 모델이 미리 학습된 가중치를 사용하여 초기화\n",
    "\n",
    "# 모든 \"feature\" 레이어에 대한 훈련 동결\n",
    "for param in vgg16.features.parameters():\n",
    "    param.requires_grad = False\n",
    "\n",
    "n_inputs = vgg16.classifier[6].in_features      # feature 부분의 파라미터 동결 (마지막 출력단 제외)\n",
    "last_layer = nn.Linear(n_inputs, len(classes))  \n",
    "vgg16.classifier[6] = last_layer"
   ]
  },
  {
   "cell_type": "markdown",
   "metadata": {},
   "source": [
    "### Train model  (classifier only)"
   ]
  },
  {
   "cell_type": "code",
   "execution_count": null,
   "metadata": {},
   "outputs": [],
   "source": [
    "import torch.optim as optim\n",
    "\n",
    "# Set hyperparams\n",
    "criterion = nn.CrossEntropyLoss() \n",
    "optimizer = optim.SGD(vgg16.classifier.parameters(), lr=0.001) \n",
    "n_epochs = 100"
   ]
  },
  {
   "cell_type": "code",
   "execution_count": null,
   "metadata": {},
   "outputs": [],
   "source": [
    "import matplotlib.pyplot as plt\n",
    "\n",
    "\n",
    "larr = []\n",
    "best_loss = float('inf')\n",
    "best_model_wts = None\n",
    "\n",
    "for epoch in range(1, n_epochs + 1):\n",
    "\n",
    "    train_loss = 0.0\n",
    "    num_batches = len(train_loader)\n",
    "\n",
    "    vgg16.train()  \n",
    "\n",
    "    for batch_i, (data, target) in enumerate(train_loader):\n",
    "        data, target = data.to(device), target.to(device)\n",
    "        optimizer.zero_grad()  \n",
    "        output = vgg16(data)  \n",
    "        \n",
    "        loss = criterion(output, target)  \n",
    "        loss.backward()  \n",
    "        optimizer.step()  \n",
    "        \n",
    "        train_loss += loss.item() \n",
    "        print('-', end='')\n",
    "\n",
    "    print()\n",
    "\n",
    "\n",
    "    avg_train_loss = train_loss / num_batches\n",
    "    print(f'Epoch {epoch}, loss: {avg_train_loss:.16f}')\n",
    "    larr.append(avg_train_loss)\n",
    "\n",
    "    \n",
    "    if avg_train_loss < best_loss:\n",
    "        best_loss = avg_train_loss\n",
    "        best_model_wts = vgg16.state_dict()\n",
    "\n",
    "    train_loss = 0.0\n",
    "\n",
    "\n",
    "# Saving best model\n",
    "if best_model_wts is not None:\n",
    "    torch.save(best_model_wts, \"best_model_weights.pth\")\n",
    "    print(\"Best model weights saved to 'best_model_weights.pth'\")"
   ]
  }
 ],
 "metadata": {
  "kernelspec": {
   "display_name": "Python 3",
   "language": "python",
   "name": "python3"
  },
  "language_info": {
   "codemirror_mode": {
    "name": "ipython",
    "version": 3
   },
   "file_extension": ".py",
   "mimetype": "text/x-python",
   "name": "python",
   "nbconvert_exporter": "python",
   "pygments_lexer": "ipython3",
   "version": "3.12.7"
  }
 },
 "nbformat": 4,
 "nbformat_minor": 2
}
